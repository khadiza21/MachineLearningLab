{
  "nbformat": 4,
  "nbformat_minor": 0,
  "metadata": {
    "colab": {
      "provenance": [],
      "authorship_tag": "ABX9TyNPpB7v2nJNlnSm7FGASAwb",
      "include_colab_link": true
    },
    "kernelspec": {
      "name": "python3",
      "display_name": "Python 3"
    },
    "language_info": {
      "name": "python"
    }
  },
  "cells": [
    {
      "cell_type": "markdown",
      "metadata": {
        "id": "view-in-github",
        "colab_type": "text"
      },
      "source": [
        "<a href=\"https://colab.research.google.com/github/khadiza21/MachineLearningLab/blob/main/markov_model.ipynb\" target=\"_parent\"><img src=\"https://colab.research.google.com/assets/colab-badge.svg\" alt=\"Open In Colab\"/></a>"
      ]
    },
    {
      "cell_type": "code",
      "execution_count": 1,
      "metadata": {
        "id": "1_1vjdLS9Dbu"
      },
      "outputs": [],
      "source": [
        "import random\n",
        "import string\n",
        "import numpy as np\n"
      ]
    },
    {
      "cell_type": "code",
      "source": [
        "randomState = \"RRSSRSFFRRSSSFRS\"\n",
        "# print(len(randomState))\n",
        "x1 = \"SS\"\n",
        "x2 = \"SR\"\n",
        "x3 = \"SF\"\n",
        "\n",
        "y1 = \"RS\"\n",
        "y2 = \"RR\"\n",
        "y3 = \"RF\"\n",
        "\n",
        "z1 = \"FS\"\n",
        "z2 = \"FR\"\n",
        "z3 = \"FF\"\n",
        "\n",
        "a = 0\n",
        "b = 1\n",
        "c = (randomState[0])+(randomState[1])\n",
        "a1=a2=a3=b1=b2=b3=c1=c2=c3= 0\n",
        "\n",
        "i = 0\n",
        "while i < len(randomState):\n",
        "  # print(randomState)\n",
        "  if (randomState[a])+(randomState[b]) == \"SS\":\n",
        "   a1+=1\n",
        "  elif (randomState[a])+(randomState[b]) == \"SR\":\n",
        "   a2+=1\n",
        "  elif (randomState[a])+(randomState[b]) == \"SF\":\n",
        "   a3+=1\n",
        "  elif (randomState[a])+(randomState[b]) == \"RS\":\n",
        "   b1+=1\n",
        "  elif (randomState[a])+(randomState[b]) == \"RR\":\n",
        "   b2+=1\n",
        "  elif (randomState[a])+(randomState[b]) == \"RF\":\n",
        "   b3+=1\n",
        "  elif (randomState[a])+(randomState[b]) == \"FS\":\n",
        "   c1+=1\n",
        "  elif (randomState[a])+(randomState[b]) == \"FR\":\n",
        "   c2+=1\n",
        "  elif (randomState[a])+(randomState[b]) == \"FF\":\n",
        "   c3+=1\n",
        "  a+=1\n",
        "  b+=1\n",
        "  i+=1\n",
        "\n",
        "\n",
        "# print(a1,a2,a3,b1,b2,b3,c1,c2,c3)\n",
        "\n"
      ],
      "metadata": {
        "colab": {
          "base_uri": "https://localhost:8080/",
          "height": 245
        },
        "id": "unoZRj_2DG4i",
        "outputId": "ab868bcc-9d36-42f0-99de-cce80fa2395e"
      },
      "execution_count": 4,
      "outputs": [
        {
          "output_type": "error",
          "ename": "IndexError",
          "evalue": "ignored",
          "traceback": [
            "\u001b[0;31m---------------------------------------------------------------------------\u001b[0m",
            "\u001b[0;31mIndexError\u001b[0m                                Traceback (most recent call last)",
            "\u001b[0;32m<ipython-input-4-65d70b1d9f9c>\u001b[0m in \u001b[0;36m<cell line: 21>\u001b[0;34m()\u001b[0m\n\u001b[1;32m     21\u001b[0m \u001b[0;32mwhile\u001b[0m \u001b[0mi\u001b[0m \u001b[0;34m<\u001b[0m \u001b[0mlen\u001b[0m\u001b[0;34m(\u001b[0m\u001b[0mrandomState\u001b[0m\u001b[0;34m)\u001b[0m\u001b[0;34m:\u001b[0m\u001b[0;34m\u001b[0m\u001b[0;34m\u001b[0m\u001b[0m\n\u001b[1;32m     22\u001b[0m   \u001b[0;31m# print(randomState)\u001b[0m\u001b[0;34m\u001b[0m\u001b[0;34m\u001b[0m\u001b[0m\n\u001b[0;32m---> 23\u001b[0;31m   \u001b[0;32mif\u001b[0m \u001b[0;34m(\u001b[0m\u001b[0mrandomState\u001b[0m\u001b[0;34m[\u001b[0m\u001b[0ma\u001b[0m\u001b[0;34m]\u001b[0m\u001b[0;34m)\u001b[0m\u001b[0;34m+\u001b[0m\u001b[0;34m(\u001b[0m\u001b[0mrandomState\u001b[0m\u001b[0;34m[\u001b[0m\u001b[0mb\u001b[0m\u001b[0;34m]\u001b[0m\u001b[0;34m)\u001b[0m \u001b[0;34m==\u001b[0m \u001b[0;34m\"SS\"\u001b[0m\u001b[0;34m:\u001b[0m\u001b[0;34m\u001b[0m\u001b[0;34m\u001b[0m\u001b[0m\n\u001b[0m\u001b[1;32m     24\u001b[0m    \u001b[0ma1\u001b[0m\u001b[0;34m+=\u001b[0m\u001b[0;36m1\u001b[0m\u001b[0;34m\u001b[0m\u001b[0;34m\u001b[0m\u001b[0m\n\u001b[1;32m     25\u001b[0m   \u001b[0;32melif\u001b[0m \u001b[0;34m(\u001b[0m\u001b[0mrandomState\u001b[0m\u001b[0;34m[\u001b[0m\u001b[0ma\u001b[0m\u001b[0;34m]\u001b[0m\u001b[0;34m)\u001b[0m\u001b[0;34m+\u001b[0m\u001b[0;34m(\u001b[0m\u001b[0mrandomState\u001b[0m\u001b[0;34m[\u001b[0m\u001b[0mb\u001b[0m\u001b[0;34m]\u001b[0m\u001b[0;34m)\u001b[0m \u001b[0;34m==\u001b[0m \u001b[0;34m\"SR\"\u001b[0m\u001b[0;34m:\u001b[0m\u001b[0;34m\u001b[0m\u001b[0;34m\u001b[0m\u001b[0m\n",
            "\u001b[0;31mIndexError\u001b[0m: string index out of range"
          ]
        }
      ]
    },
    {
      "cell_type": "code",
      "source": [
        "pSS =a1 / (a1+a2+a3)\n",
        "pSR =a2 / (a1+a2+a3)\n",
        "pSF =a3 / (a1+a2+a3)\n",
        "\n",
        "pRS =b1/ (b1+b2+b3)\n",
        "pRR =b2/ (b1+b2+b3)\n",
        "pRF =b3/ (b1+b2+b3)\n",
        "\n",
        "pFS = c1 / (c1+c2+c3)\n",
        "pFR =c2 / (c1+c2+c3)\n",
        "pFF =c3 / (c1+c2+c3)"
      ],
      "metadata": {
        "id": "8YyYpv0NM8bm"
      },
      "execution_count": null,
      "outputs": []
    },
    {
      "cell_type": "code",
      "source": [],
      "metadata": {
        "id": "FIFR9CZWDgBr"
      },
      "execution_count": null,
      "outputs": []
    }
  ]
}