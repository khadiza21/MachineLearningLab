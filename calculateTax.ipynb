{
  "nbformat": 4,
  "nbformat_minor": 0,
  "metadata": {
    "colab": {
      "provenance": [],
      "authorship_tag": "ABX9TyNEhpvLfGWKdH0MQk5cnCad",
      "include_colab_link": true
    },
    "kernelspec": {
      "name": "python3",
      "display_name": "Python 3"
    },
    "language_info": {
      "name": "python"
    }
  },
  "cells": [
    {
      "cell_type": "markdown",
      "metadata": {
        "id": "view-in-github",
        "colab_type": "text"
      },
      "source": [
        "<a href=\"https://colab.research.google.com/github/khadiza21/MachineLearningLab/blob/main/calculateTax.ipynb\" target=\"_parent\"><img src=\"https://colab.research.google.com/assets/colab-badge.svg\" alt=\"Open In Colab\"/></a>"
      ]
    },
    {
      "cell_type": "code",
      "execution_count": 1,
      "metadata": {
        "colab": {
          "base_uri": "https://localhost:8080/"
        },
        "id": "hMmUiD3NKw2o",
        "outputId": "29d325d3-fc9f-4d01-f177-33b6d7f55043"
      },
      "outputs": [
        {
          "output_type": "stream",
          "name": "stdout",
          "text": [
            "Enter your income: $20000\n",
            "Total tax amount: $1500.00\n"
          ]
        }
      ],
      "source": [
        "# lab manual 1 task no 2\n",
        "def calculateTax(income):\n",
        "\n",
        "    bracket_1 = 10000\n",
        "    bracket_2 = 50000\n",
        "    bracket_3 = 100000\n",
        "\n",
        "    rate_1 = 0.05  # 5%\n",
        "    rate_2 = 0.10  # 10%\n",
        "    rate_3 = 0.20  # 20%\n",
        "    rate_4 = 0.30  # 30%\n",
        "\n",
        "\n",
        "    if income <= bracket_1:\n",
        "        tax = income * rate_1\n",
        "    elif income <= bracket_2:\n",
        "        tax = bracket_1 * rate_1 + (income - bracket_1) * rate_2\n",
        "    elif income <= bracket_3:\n",
        "        tax = bracket_1 * rate_1 + (bracket_2 - bracket_1) * rate_2 + (income - bracket_2) * rate_3\n",
        "    else:\n",
        "        tax = bracket_1 * rate_1 + (bracket_2 - bracket_1) * rate_2 + (bracket_3 - bracket_2) * rate_3 + (income - bracket_3) * rate_4\n",
        "\n",
        "    return tax\n",
        "\n",
        "if __name__ == \"__main__\":\n",
        "\n",
        "    user_income = float(input(\"Enter your income: $\"))\n",
        "\n",
        "\n",
        "    total_tax = calculateTax(user_income)\n",
        "    print(f\"Total tax amount: ${total_tax:.2f}\")\n"
      ]
    }
  ]
}