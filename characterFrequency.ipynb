{
  "nbformat": 4,
  "nbformat_minor": 0,
  "metadata": {
    "colab": {
      "provenance": [],
      "authorship_tag": "ABX9TyNA+9zFYUJrjbbovmGl61DT",
      "include_colab_link": true
    },
    "kernelspec": {
      "name": "python3",
      "display_name": "Python 3"
    },
    "language_info": {
      "name": "python"
    }
  },
  "cells": [
    {
      "cell_type": "markdown",
      "metadata": {
        "id": "view-in-github",
        "colab_type": "text"
      },
      "source": [
        "<a href=\"https://colab.research.google.com/github/khadiza21/MachineLearningLab/blob/main/characterFrequency.ipynb\" target=\"_parent\"><img src=\"https://colab.research.google.com/assets/colab-badge.svg\" alt=\"Open In Colab\"/></a>"
      ]
    },
    {
      "cell_type": "code",
      "execution_count": 2,
      "metadata": {
        "colab": {
          "base_uri": "https://localhost:8080/"
        },
        "id": "Slt4_qciBCaa",
        "outputId": "d589225a-8b07-4e6c-f10d-4ae4a50479b3"
      },
      "outputs": [
        {
          "output_type": "stream",
          "name": "stdout",
          "text": [
            "Enter a string: This is khadiza\n",
            "Character frequencies:\n",
            "'T': 1 'h': 2 'i': 3 's': 2 ' ': 2 'k': 1 'a': 2 'd': 1 'z': 1 "
          ]
        }
      ],
      "source": [
        "def characterFrequency(line):\n",
        "\n",
        "    countCharFreq = {}\n",
        "\n",
        "    for char in line:\n",
        "\n",
        "        countCharFreq[char] = countCharFreq.get(char, 0) + 1\n",
        "\n",
        "    print(\"Character frequencies:\")\n",
        "    for char, frequency in countCharFreq.items():\n",
        "        print(f\"'{char}': {frequency}\", end=' ')\n",
        "\n",
        "if __name__ == \"__main__\":\n",
        "    user_input = input(\"Enter a string: \")\n",
        "\n",
        "\n",
        "    characterFrequency(user_input)\n"
      ]
    },
    {
      "cell_type": "code",
      "source": [],
      "metadata": {
        "id": "hmAw_HI5DnQI"
      },
      "execution_count": null,
      "outputs": []
    }
  ]
}