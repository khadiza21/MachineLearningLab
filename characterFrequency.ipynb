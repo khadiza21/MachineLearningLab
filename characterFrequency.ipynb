{
  "nbformat": 4,
  "nbformat_minor": 0,
  "metadata": {
    "colab": {
      "provenance": [],
      "authorship_tag": "ABX9TyM2uu6M5r7AA3kphXxZVavi",
      "include_colab_link": true
    },
    "kernelspec": {
      "name": "python3",
      "display_name": "Python 3"
    },
    "language_info": {
      "name": "python"
    }
  },
  "cells": [
    {
      "cell_type": "markdown",
      "metadata": {
        "id": "view-in-github",
        "colab_type": "text"
      },
      "source": [
        "<a href=\"https://colab.research.google.com/github/khadiza21/MachineLearningLab/blob/main/characterFrequency.ipynb\" target=\"_parent\"><img src=\"https://colab.research.google.com/assets/colab-badge.svg\" alt=\"Open In Colab\"/></a>"
      ]
    },
    {
      "cell_type": "code",
      "execution_count": 4,
      "metadata": {
        "colab": {
          "base_uri": "https://localhost:8080/"
        },
        "id": "Slt4_qciBCaa",
        "outputId": "c8aa09d2-12ae-40ff-febf-a88324d3d5b7"
      },
      "outputs": [
        {
          "output_type": "stream",
          "name": "stdout",
          "text": [
            "Enter a string: my name is tania\n",
            "Character frequencies:\n",
            "'m': 2 'y': 1 ' ': 3 'n': 2 'a': 3 'e': 1 'i': 2 's': 1 't': 1 "
          ]
        }
      ],
      "source": [
        "# lab manual 1 : task no 1\n",
        "def characterFrequency(line):\n",
        "\n",
        "    countCharFreq = {}\n",
        "\n",
        "    for char in line:\n",
        "\n",
        "        countCharFreq[char] = countCharFreq.get(char, 0) + 1\n",
        "\n",
        "    print(\"Character frequencies:\")\n",
        "    for char, frequency in countCharFreq.items():\n",
        "        print(f\"'{char}': {frequency}\", end=' ')\n",
        "\n",
        "if __name__ == \"__main__\":\n",
        "    user_input = input(\"Enter a string: \")\n",
        "\n",
        "\n",
        "    characterFrequency(user_input)\n"
      ]
    },
    {
      "cell_type": "code",
      "source": [
        "\n",
        "! pwd\n"
      ],
      "metadata": {
        "colab": {
          "base_uri": "https://localhost:8080/"
        },
        "id": "hmAw_HI5DnQI",
        "outputId": "1a1cef47-3be0-4a80-f5a4-a95842cc39e0"
      },
      "execution_count": 6,
      "outputs": [
        {
          "output_type": "stream",
          "name": "stdout",
          "text": [
            "/content\n"
          ]
        }
      ]
    },
    {
      "cell_type": "code",
      "source": [
        "! git add .\n"
      ],
      "metadata": {
        "colab": {
          "base_uri": "https://localhost:8080/"
        },
        "id": "bMEUqYaaIY3m",
        "outputId": "e75dae34-cc78-4a27-935b-193927b6e233"
      },
      "execution_count": 8,
      "outputs": [
        {
          "output_type": "stream",
          "name": "stdout",
          "text": [
            "fatal: not a git repository (or any of the parent directories): .git\n"
          ]
        }
      ]
    }
  ]
}